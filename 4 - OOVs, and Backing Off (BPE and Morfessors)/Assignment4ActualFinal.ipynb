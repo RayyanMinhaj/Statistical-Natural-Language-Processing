{
 "cells": [
  {
   "cell_type": "markdown",
   "id": "8d08b1ae-24ed-47cc-84af-56684de13b23",
   "metadata": {},
   "source": [
    "# SNLP Assignment 4\n",
    "\n",
    "Name 1: Rayyan Mohammad Minhaj<br/>\n",
    "Student id 1: 7074982<br/>\n",
    "Email 1: rami00002@stud.uni-saarland.de<br/>\n",
    "\n",
    "\n",
    "Name 2: Abdullah Abdul Wahid <br/>\n",
    "Student id 2: 7075730 <br/>\n",
    "Email 2: abyy00002@stud.uni-saarland.de<br/> \n",
    "\n",
    "Name 3: <br/>\n",
    "Student id 3: <br/>\n",
    "Email 3: <br/> \n",
    "\n",
    "**Instructions:** Read each question carefully. <br/>\n",
    "Make sure you appropriately comment your code wherever required. Your final submission should contain the completed Notebook. There is no need to submit the data files. <br/>\n",
    "Upload the zipped folder on CMS. Please follow the naming convention of **Name1_studentID1_Name2_studentID2_Name3_studentID3.zip**. Make sure to click on \"Turn-in\" (or the equivalent on CMS) after you upload your submission, otherwise the assignment will not be considered as submitted. Only one member of the group should make the submisssion."
   ]
  },
  {
   "cell_type": "markdown",
   "id": "e6baf84f-c1f1-4d86-80ed-d127e734d96e",
   "metadata": {},
   "source": [
    "# OOVs ( 4 Points)\n",
    "\n",
    "Out-of-vocabulary words are a problem in language modeling, because of data sparsity.\n",
    "In this exercise we will axamine the impact of vocab size on OOV rate and how this affects the performance of the model.\n",
    "\n",
    "1. What are out-of-vocabulary words (OOVs)? (0.25 points)\n",
    "2. What happened to perplexity with low-frequency words? (0.25 points)\n",
    "\n",
    "### Answers:\n",
    "\n",
    "1 - OOV are those words that are not inside the predefined vocabulary set (out-of-vocabulary), and thus they cannot be recognised or processed by the language model. <br/><br/>\n",
    "2 - Perplexity increases with low frequency words, this is because the model struggles to predict what comes next due to insufficient training data, leading to higher uncertainty and lower performance."
   ]
  },
  {
   "cell_type": "markdown",
   "id": "27561edb-a232-4815-8d5d-fbb48e2f54cd",
   "metadata": {},
   "source": [
    "3. Load and split the data into a train and test set (70:30 ratio). Do not randomize leave the order as is. (0.5point)"
   ]
  },
  {
   "cell_type": "code",
   "execution_count": null,
   "id": "417b6bb2-570f-45f4-a4c1-ac359964790c",
   "metadata": {},
   "outputs": [],
   "source": [
    "import nltk\n",
    "nltk.download('treebank')\n",
    "from nltk.corpus import treebank\n",
    "\n",
    "### TODO\n",
    "\n",
    "def load_and_preprocess_data():\n",
    "    ''' Function that loads the treebank corpus from nltk and preprocesses it'''\n",
    "    corpus = treebank.sents() #so this just contains some sentences, and each sentence is tokenized into its own list and each word is its own element\n",
    "    \n",
    "    tokens = []\n",
    "    for item in corpus:\n",
    "        for word in item:\n",
    "            tokens.append(word.lower()) #also lower case-d it because of what Assignment 2 taught us!\n",
    "\n",
    "    return tokens\n",
    "\n",
    "def train_test_split(corpus, train_ratio=0.7):\n",
    "    '''Splits the corpus using a 70:30 ratio. Do not randomize anything here. use the original order\n",
    "    Input: corpus - preprocessed test\n",
    "    Output: tuple of train and test set'''\n",
    "\n",
    "    split_point = int(len(corpus) * train_ratio)\n",
    "    train = corpus[:split_point]\n",
    "    test = corpus[split_point:]\n",
    "    return train, test\n",
    "    "
   ]
  },
  {
   "cell_type": "markdown",
   "id": "46e12e31-24dc-4046-a1b9-b2964e6c2527",
   "metadata": {},
   "source": [
    "4. Complete the function that selects the top n frequent words to form a vocabulary. (0.5 point)"
   ]
  },
  {
   "cell_type": "code",
   "execution_count": null,
   "id": "29de5d69-5212-47c5-a851-03895bd020a5",
   "metadata": {},
   "outputs": [],
   "source": [
    "from collections import Counter #this will make getting most common elements easier\n",
    "\n",
    "def make_vocab(tokens, top_n: int) -> set:\n",
    "    '''Make the top_n frequent vocabulary from a corpus\n",
    "    Input:tokens - list of tokens\n",
    "         top_n  - int\n",
    "    Output: the vocabulary - set of words'''\n",
    "    \n",
    "    counter = Counter(tokens)\n",
    "    most_common = counter.most_common(top_n) #basically getting the top n most common elements\n",
    "    \n",
    "    vocab = set()\n",
    "    for word, _ in most_common:\n",
    "        vocab.add(word)\n",
    "\n",
    "    return vocab #returns n most common elements/tokens\n",
    "\n",
    "        "
   ]
  },
  {
   "cell_type": "markdown",
   "id": "58700f6a-3068-4613-bc16-dcf280a70f34",
   "metadata": {},
   "source": [
    "5. Complete the function that restricts a corpus to the top_n Vocabulary, i.e. replace  all OOVs with a new `<unk>` token. (1 point)"
   ]
  },
  {
   "cell_type": "code",
   "execution_count": null,
   "id": "87784b35-e436-49d7-bd8b-93c2dd2dff77",
   "metadata": {},
   "outputs": [],
   "source": [
    "\n",
    "def restrict_vocab(corpus, vocab):\n",
    "    '''Make the corpus fit inside the vocabulary using <unk>\n",
    "    Input: corpus - text to be resticted\n",
    "         vocab  - set of words\n",
    "    Output: Corpus resticted to vocab'''\n",
    "    restricted_corpus = []\n",
    "\n",
    "    for word in corpus:\n",
    "        if word in vocab:\n",
    "            restricted_corpus.append(word)\n",
    "        else:\n",
    "            restricted_corpus.append('<unk>')\n",
    "     \n",
    "\n",
    "    return restricted_corpus\n",
    "    "
   ]
  },
  {
   "cell_type": "markdown",
   "id": "4da51e38-aea2-4c94-ba4d-bcf47811c6c7",
   "metadata": {},
   "source": [
    "6. Plot the OOV rate of the test set for varying vocabulary sizes. (1 point)"
   ]
  },
  {
   "cell_type": "code",
   "execution_count": null,
   "id": "f50378ee-ba14-46c1-b98c-cf5d2c218e40",
   "metadata": {},
   "outputs": [],
   "source": [
    "import matplotlib.pyplot as plt\n",
    "\n",
    "def get_OOV_rate(text, vocab):\n",
    "    ''' Function that returns the OOV rate for a given corpus and Vocab\n",
    "    Input: corpus - preprocessed text\n",
    "         vocab  - set of words\n",
    "    Output: OOV rate - float '''\n",
    "    total_tokens = len(text)\n",
    "    oov_tokens = 0\n",
    "    \n",
    "    for word in text:\n",
    "         if word not in vocab:\n",
    "              oov_tokens+=1\n",
    "     \n",
    "    if total_tokens > 0:\n",
    "         return oov_tokens/total_tokens\n",
    "    else:\n",
    "         return 0.0\n",
    "\n",
    "\n",
    "\n",
    "def plot_OOV_rates(train, test, top_n):\n",
    "     ''' Function that returns the OOV rate for a given corpus and Vocab\n",
    "    Input: corpus - preprocessed text\n",
    "         vocab  - set of words\n",
    "         top_n - list[int] '''\n",
    "     \n",
    "     oov_rates = []\n",
    "\n",
    "     for top in top_n:\n",
    "          vocab = make_vocab(train, top)\n",
    "          oov_rate = get_OOV_rate(test,vocab)\n",
    "          oov_rates.append(oov_rate)\n",
    "\n",
    "     \n",
    "     plt.figure(figsize=(10, 5))\n",
    "     plt.plot(top_n, oov_rates, marker='o')\n",
    "     plt.title(\"OOV Rate vs Vocabulary Size (on Test Set)\")\n",
    "     plt.xlabel(\"Vocabulary Size (Top N)\")\n",
    "     plt.ylabel(\"OOV Rate\")\n",
    "     plt.grid(True)\n",
    "     plt.show()\n",
    "     \n"
   ]
  },
  {
   "cell_type": "markdown",
   "id": "28e0d4b5",
   "metadata": {},
   "source": [
    "### Driver Code"
   ]
  },
  {
   "cell_type": "code",
   "execution_count": null,
   "id": "92f23fbd",
   "metadata": {},
   "outputs": [
    {
     "name": "stdout",
     "output_type": "stream",
     "text": [
      "Top 100 vocab`s OOV Rate: 0.4887\n",
      "Top 200 vocab`s OOV Rate: 0.4279\n",
      "Top 500 vocab`s OOV Rate: 0.3365\n",
      "Top 1000 vocab`s OOV Rate: 0.2655\n",
      "Top 5000 vocab`s OOV Rate: 0.1274\n",
      "Top 15000 vocab`s OOV Rate: 0.0959\n"
     ]
    },
    {
     "data": {
      "image/png": "[encoded data removed]",
      "text/plain": [
       "<Figure size 1000x500 with 1 Axes>"
      ]
     },
     "metadata": {},
     "output_type": "display_data"
    }
   ],
   "source": [
    "tokens = load_and_preprocess_data()\n",
    "train, test = train_test_split(tokens)\n",
    "\n",
    "vocab_size = [100, 200, 500, 1000, 5000, 15000]\n",
    "\n",
    "for topn in vocab_size:\n",
    "    vocab = make_vocab(train, topn)\n",
    "    oov_rate = get_OOV_rate(test, vocab)\n",
    "    print(f'Top {topn} vocab`s OOV Rate: {oov_rate:0.4f}')\n",
    "\n",
    "\n",
    "plot_OOV_rates(train, test, vocab_size)\n",
    "\n",
    "\n"
   ]
  },
  {
   "cell_type": "markdown",
   "id": "be2486f7-848e-4f0e-8c54-31ce8a94cbf0",
   "metadata": {},
   "source": [
    "7. Why would we restrict Vocabulary size if OOVs are a problem.(0.5 points)\n",
    "\n",
    "We restrict vocabulary size due to long training time, model commplexity, memory usage, but above all else, because we simply cannot have each and every word/phrase inside our vocabulary set. Large vocabulary increases sparsity, making model harder to train; we can think of it like having 100,000 words to choose from when predicting the next word."
   ]
  },
  {
   "cell_type": "markdown",
   "id": "b72ee414-3971-4e5b-a8c6-900b456d60ce",
   "metadata": {},
   "source": [
    "# Tokenization (6 Points)\n",
    "\n",
    "In the previous part we replaced OOVs with a`<unk>` Token. Another approach is to change tokenization to split words in to subwords. In the lecture we learnt about two methods that do this BPE and Morfessor. In this part we will see how they work using text data in English and Hindi. We will also compare them by looking at the entropy of the token distributions and how they handle OOVs.\n",
    "\n",
    "1. Load the parallel corpus (English-Hindi), preprocess and split the text in words for both languages. Also split into train and test sets using the same ratio as in the previous part.(1 point)"
   ]
  },
  {
   "cell_type": "code",
   "execution_count": 1,
   "id": "123c66ce-33e1-4177-bffc-2bb847e97bd8",
   "metadata": {},
   "outputs": [
    {
     "name": "stderr",
     "output_type": "stream",
     "text": [
      "c:\\Users\\rayya\\AppData\\Local\\Programs\\Python\\Python39\\lib\\site-packages\\tqdm\\auto.py:21: TqdmWarning: IProgress not found. Please update jupyter and ipywidgets. See https://ipywidgets.readthedocs.io/en/stable/user_install.html\n",
      "  from .autonotebook import tqdm as notebook_tqdm\n"
     ]
    },
    {
     "name": "stdout",
     "output_type": "stream",
     "text": [
      "{'idx': 0, 'src': \"However, Paes, who was partnering Australia's Paul Hanley, could only go as far as the quarterfinals where they lost to Bhupathi and Knowles\", 'tgt': 'आस्ट्रेलिया के पाल हेनली के साथ जोड़ी बनाने वाले पेस मियामी में क्वार्टरफाइनल तक ही पहुंच सके क्योंकि इस दौर में उन्हें भूपति और नोल्स ने हराया था।'}\n"
     ]
    }
   ],
   "source": [
    "from exercise_2 import (\n",
    "    train_bpe,\n",
    "    entropy_and_oov,\n",
    "    prepare_morfessor_file,\n",
    "    train_morfessor_model,\n",
    "    morfessor_tokenize,\n",
    "    TokenizerEntropy\n",
    ")\n",
    "\n",
    "\n",
    "\n",
    "from datasets import load_dataset\n",
    "\n",
    "# Load the Samanantar dataset for English-Hindi\n",
    "dataset = load_dataset(\"ai4bharat/samanantar\", \"hi\", split=\"train\",streaming = True)\n",
    "\n",
    "# Access the  first 1000 samples of the train split\n",
    "data = []\n",
    "for i, sample in enumerate(dataset):\n",
    "    if i == 1000:\n",
    "        break\n",
    "    data.append(sample)\n",
    "\n",
    "# Print a sample\n",
    "print(data[0])"
   ]
  },
  {
   "cell_type": "code",
   "execution_count": 2,
   "id": "b44cbafe-384c-475d-b16f-272b681497ff",
   "metadata": {},
   "outputs": [],
   "source": [
    "from sklearn.model_selection import train_test_split\n",
    "# preprocess data\n",
    "en_texts = []\n",
    "hi_texts = []\n",
    "\n",
    "for sample in data:\n",
    "    en_words = sample['src'].strip().split()\n",
    "    hi_words = sample['tgt'].strip().split()\n",
    "\n",
    "    en_texts.append(en_words)\n",
    "    hi_texts.append(hi_words)\n",
    "\n",
    "\n",
    "en_train, en_test = train_test_split(en_texts, train_size=0.7)\n",
    "hi_train, hi_test = train_test_split(hi_texts, train_size=0.7)\n",
    "    "
   ]
  },
  {
   "cell_type": "markdown",
   "id": "584685af-bfce-4f3e-b931-ddcb0f01ec96",
   "metadata": {},
   "source": [
    "2. Train a BPE tokenizer for both languages. (1 point)\n",
    "3. Compute the entropy and OOV rate of the test set for both languages. What does the entropy tell us? (1 point)"
   ]
  },
  {
   "cell_type": "code",
   "execution_count": null,
   "id": "0064eaf9",
   "metadata": {},
   "outputs": [
    {
     "name": "stdout",
     "output_type": "stream",
     "text": [
      "Collecting tokenizers\n",
      "  Downloading tokenizers-0.21.1-cp39-abi3-win_amd64.whl (2.4 MB)\n",
      "     ---------------------------------------- 2.4/2.4 MB 4.6 MB/s eta 0:00:00\n",
      "Requirement already satisfied: huggingface-hub<1.0,>=0.16.4 in c:\\users\\rayya\\appdata\\local\\programs\\python\\python39\\lib\\site-packages (from tokenizers) (0.31.1)\n",
      "Requirement already satisfied: packaging>=20.9 in c:\\users\\rayya\\appdata\\roaming\\python\\python39\\site-packages (from huggingface-hub<1.0,>=0.16.4->tokenizers) (24.2)\n",
      "Requirement already satisfied: pyyaml>=5.1 in c:\\users\\rayya\\appdata\\local\\programs\\python\\python39\\lib\\site-packages (from huggingface-hub<1.0,>=0.16.4->tokenizers) (6.0.2)\n",
      "Requirement already satisfied: typing-extensions>=3.7.4.3 in c:\\users\\rayya\\appdata\\roaming\\python\\python39\\site-packages (from huggingface-hub<1.0,>=0.16.4->tokenizers) (4.13.2)\n",
      "Requirement already satisfied: filelock in c:\\users\\rayya\\appdata\\local\\programs\\python\\python39\\lib\\site-packages (from huggingface-hub<1.0,>=0.16.4->tokenizers) (3.18.0)\n",
      "Requirement already satisfied: requests in c:\\users\\rayya\\appdata\\local\\programs\\python\\python39\\lib\\site-packages (from huggingface-hub<1.0,>=0.16.4->tokenizers) (2.32.3)\n",
      "Requirement already satisfied: tqdm>=4.42.1 in c:\\users\\rayya\\appdata\\local\\programs\\python\\python39\\lib\\site-packages (from huggingface-hub<1.0,>=0.16.4->tokenizers) (4.67.1)\n",
      "Requirement already satisfied: fsspec>=2023.5.0 in c:\\users\\rayya\\appdata\\local\\programs\\python\\python39\\lib\\site-packages (from huggingface-hub<1.0,>=0.16.4->tokenizers) (2025.3.0)\n",
      "Requirement already satisfied: colorama in c:\\users\\rayya\\appdata\\roaming\\python\\python39\\site-packages (from tqdm>=4.42.1->huggingface-hub<1.0,>=0.16.4->tokenizers) (0.4.6)\n",
      "Requirement already satisfied: idna<4,>=2.5 in c:\\users\\rayya\\appdata\\local\\programs\\python\\python39\\lib\\site-packages (from requests->huggingface-hub<1.0,>=0.16.4->tokenizers) (3.10)\n",
      "Requirement already satisfied: charset-normalizer<4,>=2 in c:\\users\\rayya\\appdata\\local\\programs\\python\\python39\\lib\\site-packages (from requests->huggingface-hub<1.0,>=0.16.4->tokenizers) (3.4.2)\n",
      "Requirement already satisfied: urllib3<3,>=1.21.1 in c:\\users\\rayya\\appdata\\local\\programs\\python\\python39\\lib\\site-packages (from requests->huggingface-hub<1.0,>=0.16.4->tokenizers) (2.4.0)\n",
      "Requirement already satisfied: certifi>=2017.4.17 in c:\\users\\rayya\\appdata\\local\\programs\\python\\python39\\lib\\site-packages (from requests->huggingface-hub<1.0,>=0.16.4->tokenizers) (2025.4.26)\n",
      "Installing collected packages: tokenizers\n",
      "Successfully installed tokenizers-0.21.1\n"
     ]
    },
    {
     "name": "stderr",
     "output_type": "stream",
     "text": [
      "WARNING: You are using pip version 22.0.4; however, version 25.1.1 is available.\n",
      "You should consider upgrading via the 'C:\\Users\\rayya\\AppData\\Local\\Programs\\Python\\Python39\\python.exe -m pip install --upgrade pip' command.\n"
     ]
    }
   ],
   "source": [
    "!pip install tokenizers"
   ]
  },
  {
   "cell_type": "code",
   "execution_count": 3,
   "id": "cbc925d4-21b8-4190-b616-79a9419d0235",
   "metadata": {},
   "outputs": [
    {
     "name": "stdout",
     "output_type": "stream",
     "text": [
      "BPE entropy english: 7.96\n",
      "BPE entropy hindi: 7.91\n",
      "BPE OOV rate english: 0.00\n",
      "BPE OOV rate hindi: 0.00\n"
     ]
    }
   ],
   "source": [
    "from tokenizers import Tokenizer\n",
    "from tokenizers.models import BPE\n",
    "from tokenizers.trainers import BpeTrainer\n",
    "from tokenizers.pre_tokenizers import Whitespace\n",
    "from collections import Counter\n",
    "import math\n",
    "\n",
    "\n",
    "vocab_size = 500\n",
    "bpe_tokenizer_en = train_bpe(en_train, vocab_size)\n",
    "bpe_tokenizer_hi = train_bpe(hi_train, vocab_size)\n",
    "\n",
    "\n",
    "bpe_entropy_en, bpe_OOV_rate_en = entropy_and_oov(en_test, bpe_tokenizer_en)\n",
    "bpe_entropy_hi, bpe_OOV_rate_hi = entropy_and_oov(hi_test, bpe_tokenizer_hi)\n",
    "\n",
    "\n",
    "print(f\"BPE entropy english: {bpe_entropy_en:.2f}\")\n",
    "print(f\"BPE entropy hindi: {bpe_entropy_hi:.2f}\")\n",
    "print(f\"BPE OOV rate english: {bpe_OOV_rate_en:.2f}\")\n",
    "print(f\"BPE OOV rate hindi: {bpe_OOV_rate_hi:.2f}\") #PS: there is a character in hindi here that is out-of-alphabet, change it to 9 dp and you can view the actual oov rate :P"
   ]
  },
  {
   "cell_type": "markdown",
   "id": "88b84c24",
   "metadata": {},
   "source": [
    "---\n",
    "# An OOV Rate of 0.00??\n",
    "This is the key advantage of BPE and Morfessor (subword tokenization methods). The vocabulary includes not only whole words but subwords, characters, or even byte-level symbols. Any unseen word can always be broken down into smaller units that do exist in the vocabulary!!!\n",
    "\n",
    "---"
   ]
  },
  {
   "cell_type": "markdown",
   "id": "a0ef4bfa-b487-491b-a0ce-642d472f5456",
   "metadata": {},
   "source": [
    "4. Train the Morfessor tokenizer on each corpus. Morphesor expects the count followed by the word as a training file.(1 points)\n",
    "\n",
    "   ```\n",
    "        22 the\n",
    "        1 hello\n",
    "        4 is\n",
    "        1 test-based\n",
    "        ..."
   ]
  },
  {
   "cell_type": "code",
   "execution_count": null,
   "id": "97a546d6",
   "metadata": {},
   "outputs": [
    {
     "name": "stdout",
     "output_type": "stream",
     "text": [
      "Collecting morfessor\n",
      "  Downloading Morfessor-2.0.6-py3-none-any.whl (35 kB)\n",
      "Installing collected packages: morfessor\n",
      "Successfully installed morfessor-2.0.6\n"
     ]
    },
    {
     "name": "stderr",
     "output_type": "stream",
     "text": [
      "WARNING: You are using pip version 22.0.4; however, version 25.1.1 is available.\n",
      "You should consider upgrading via the 'C:\\Users\\rayya\\AppData\\Local\\Programs\\Python\\Python39\\python.exe -m pip install --upgrade pip' command.\n"
     ]
    }
   ],
   "source": [
    "!pip install morfessor"
   ]
  },
  {
   "cell_type": "code",
   "execution_count": 4,
   "id": "67eb739e-d3aa-4582-9c4c-fe4a2f49f0a7",
   "metadata": {},
   "outputs": [],
   "source": [
    "import morfessor\n",
    "# save the words with their counts to morfessor_training_en.txt and morfessor_training_hi.txt\n",
    "\n",
    "prepare_morfessor_file(en_train, \"morfessor_train_en.txt\")\n",
    "prepare_morfessor_file(hi_train, \"morfessor_train_hi.txt\")\n",
    "\n",
    "\n"
   ]
  },
  {
   "cell_type": "code",
   "execution_count": 5,
   "id": "f0c32f51-124f-4be3-801d-9e6405f374b1",
   "metadata": {},
   "outputs": [
    {
     "name": "stderr",
     "output_type": "stream",
     "text": [
      "...........................................................\n",
      "...........................................................\n",
      "...........................................................\n",
      "...........................................................\n",
      "...........................................................\n",
      "...........................................................\n",
      "...........................................................\n",
      "...........................................................\n",
      "...........................................................\n"
     ]
    }
   ],
   "source": [
    "#train the models\n",
    "alpha =  0.53\n",
    "\n",
    "morfessor_model_en = train_morfessor_model(\"morfessor_train_en.txt\", alpha)\n",
    "morfessor_model_hi = train_morfessor_model(\"morfessor_train_hi.txt\", alpha)"
   ]
  },
  {
   "cell_type": "markdown",
   "id": "32eaeb88-7cea-4979-a5be-9f1cd36b16e4",
   "metadata": {},
   "source": [
    "5. Tokenize each test set again using Morfessor. (1 point)"
   ]
  },
  {
   "cell_type": "code",
   "execution_count": 6,
   "id": "ad32936a-ad02-48b5-9dd7-63dc44a61b69",
   "metadata": {},
   "outputs": [],
   "source": [
    "#tokenize test sets\n",
    "morf_en_test = morfessor_tokenize(morfessor_model_en, en_test)\n",
    "morf_hi_test = morfessor_tokenize(morfessor_model_hi, hi_test)\n"
   ]
  },
  {
   "cell_type": "markdown",
   "id": "7e006c99-7700-4286-b07a-517ac07b87b5",
   "metadata": {},
   "source": [
    "6. Compare the OOV rate and entropy to BPE. How do they compare for both languages? (1 point)"
   ]
  },
  {
   "cell_type": "code",
   "execution_count": 8,
   "id": "17081332-1bd6-4577-adc7-96567082147e",
   "metadata": {},
   "outputs": [
    {
     "name": "stdout",
     "output_type": "stream",
     "text": [
      "Morfessor entropy english: 7.91\n",
      "Morrfessor entropy hindi: 7.74\n",
      "Morfessor OOV rate english: 0.00\n",
      "Morfessor OOV rate hindi: 0.00\n"
     ]
    }
   ],
   "source": [
    "#Compute entropys and OOV rates\n",
    "entropy_calc = TokenizerEntropy()\n",
    "\n",
    "\n",
    "morf_vocab_en = set(construction[0] for construction in morfessor_model_en.get_constructions())\n",
    "morf_vocab_hi = set(construction[0] for construction in morfessor_model_hi.get_constructions())\n",
    "\n",
    "\n",
    "morfessor_entropy_en, morfessor_OOV_rate_en = entropy_calc.compute_entropy_and_oov(morf_en_test, morf_vocab_en)\n",
    "morfessor_entropy_hi, morfessor_OOV_rate_hi = entropy_calc.compute_entropy_and_oov(morf_hi_test, morf_vocab_hi)\n",
    "\n",
    "\n",
    "print(f\"Morfessor entropy english: {morfessor_entropy_en:.2f}\")\n",
    "print(f\"Morrfessor entropy hindi: {morfessor_entropy_hi:.2f}\")\n",
    "print(f\"Morfessor OOV rate english: {morfessor_OOV_rate_en:.2f}\")\n",
    "print(f\"Morfessor OOV rate hindi: {morfessor_OOV_rate_hi:.2f}\")"
   ]
  },
  {
   "cell_type": "markdown",
   "id": "054087d2",
   "metadata": {},
   "source": [
    "### Comparing Entropy of BPE and Morfessor\n",
    "For English, Morfessor had entropy of 7.91, and BPE had 7.96. Morfessor has slightly lower entropy, suggesting it models English word/subword distributions a bit better than BPE. <br/>\n",
    "For Hindi, Morfessor had entropy of 7.74, and BPE had 7.91. Again, Morfessor outperforms BPE in entropy, more noticeably for Hindi, indicating better compression and prediction. <br/>\n",
    "\n",
    "---\n",
    "\n",
    "### Comparing OOV Rate of BPE and Morfessor\n",
    "Both models have an OOV (Out-of-Vocabulary) rate of 0.00 for both languages, which means both are equally effective in covering the vocabulary through subword segmentation. Since both achieve 0% OOV, Morfessor would generally be the preferred model here, especially for morphologically rich languages like Hindi. <br/>\n",
    "\n"
   ]
  },
  {
   "cell_type": "markdown",
   "id": "d3cb9e42",
   "metadata": {},
   "source": []
  }
 ],
 "metadata": {
  "kernelspec": {
   "display_name": "Python 3",
   "language": "python",
   "name": "python3"
  },
  "language_info": {
   "codemirror_mode": {
    "name": "ipython",
    "version": 3
   },
   "file_extension": ".py",
   "mimetype": "text/x-python",
   "name": "python",
   "nbconvert_exporter": "python",
   "pygments_lexer": "ipython3",
   "version": "3.9.11"
  }
 },
 "nbformat": 4,
 "nbformat_minor": 5
}
