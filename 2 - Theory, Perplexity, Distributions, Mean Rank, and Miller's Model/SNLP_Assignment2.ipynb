{
 "cells": [
  {
   "cell_type": "markdown",
   "id": "ace9afaa",
   "metadata": {},
   "source": [
    "# SNLP Assignment 2\n",
    "\n",
    "Name 1: Rayyan Mohammad Minhaj <br/>\n",
    "Student id 1: 7074982 <br/>\n",
    "Email 1: rami00002@stud.uni-saarland.de <br/>\n",
    "\n",
    "\n",
    "Name 2: <br/>\n",
    "Student id 2: <br/>\n",
    "Email 2: <br/> \n",
    "\n",
    "Name 3: <br/>\n",
    "Student id 3: <br/>\n",
    "Email 3: <br/> \n",
    "\n",
    "**Instructions:** Read each question carefully. <br/>\n",
    "Make sure you appropriately comment your code wherever required. Your final submission should contain the completed Notebook. There is no need to submit the data files. <br/>\n",
    "Upload the zipped folder on CMS. Please follow the naming convention of **Name1_studentID1_Name2_studentID2_Name3_studentID3.zip**. Make sure to click on \"Turn-in\" (or the equivalent on CMS) after you upload your submission, otherwise the assignment will not be considered as submitted. Only one member of the group should make the submisssion.\n",
    "\n",
    "**NOTE**: For this specific exercise, you are not allowed to import any libraries other than the ones already specified in the next cell\n",
    "\n",
    "---"
   ]
  },
  {
   "cell_type": "markdown",
   "id": "6f9e327e",
   "metadata": {},
   "source": [
    "## Exercise 1 - Theoretical Concepts (4 points)\n",
    "\n",
    "### 1.1 Probabilistic Independence (2 points)\n",
    "\n",
    "Consider a fair 6-sided die whose sides are numbered from 1 to 6 and each die roll is independent of the other rolls. In an experiment that consists of rolling the die twice, the following events can be defined:\n",
    "\n",
    "    \n",
    "    A: The sum of the two outcomes is strictly larger than 10\n",
    "    B: At least one of the two rolls resulted in 6\n",
    "    C: At least one of the two rolls resulted in 3\n",
    "    D: The outcome of the 2nd roll was higher than the 1st roll\n",
    "    E: The difference between the two roll outcomes is exactly 1\n",
    "\n",
    "a. Compute the probabilities $P(A)$, $P(C)$, and $P(E)$. <br/>\n",
    "\n",
    "b. Is event A independent of event B?\n",
    "\n",
    "c. Is event A independent of event C?\n",
    "\n",
    "d. Are events D and E independent?\n",
    "\n",
    "Justify your answers using the laws of probability and the definition of probabilistic independence.\n",
    "\n",
    "---"
   ]
  },
  {
   "cell_type": "markdown",
   "id": "fa5d0eb8",
   "metadata": {},
   "source": [
    "(a) Compute the probabilities $P(A), P(C)$, and $P(E)$ <br/>\n",
    "For $P(A)$ there are 2 possibilities that result in sum larger than 10 i.e., 11 and 12 <br/>\n",
    "For 11 (5,6), (6,5) = 2 outcomes<br/>\n",
    "For 12 (6,6) = 1 outcome<br/>\n",
    "\n",
    "$P(A) = 3/36 = 1/12$ <br/>\n",
    "\n",
    "For $P(C)$ there are 11 possibilities that one of the roll results in 3<br/>\n",
    "(3,1) (3,2) (3,3) (3,4) (3,5) (3,6) (1,3) (2,3) (4,3) (5,3) (6,3)<br/>\n",
    "$P(C) = 11/36$<br/>\n",
    "\n",
    "For $P(E)$ there are 10 possibilities that the difference between two rolls is 1<br/>\n",
    "(1,2)(2,3)(3,4)(4,5)(5,6)(2,1)(2,3)(4,3)(5,4)(6,5) <br/>\n",
    "$P(E) = 10/36$<br/>\n",
    "\n",
    "<br/>\n",
    "\n",
    "(b) Is event A independent of event B <br/>\n",
    "$P(A ∩ B) = P(A) . P(B)$\n",
    "\n",
    "$P(A ∩ B)$ = sum of the two outcomes is strictly larger than 10 and At least one of the two rolls resulted in 6<br/>\n",
    "$P(A ∩ B) = 3/36$\n",
    "\n",
    "$P(A) = 3/36$ and $P(B) = 11/36$ because there are 11 possibilities of 6 coming [(1,6)(2,6)(3,6)(4,6)(5,6)(6,6)(6,1)(6,2)(6,3)(6,4)(6,5)]\n",
    "\n",
    "however, $P(A ∩ B) = P(A) . P(B)$ -> $3/36 =/= 11/432$ <br/>\n",
    "therefore they are not independent.<br/>\n",
    "\n",
    "<br/>\n",
    "\n",
    "(c) Is event A independent of C<br/>\n",
    "$P(A ∩ C) = P(A) . P(C)$<br/>\n",
    "$P(A ∩ C)$ = sum of the two outcomes is strictly larger than 10 and At least one of the two rolls resulted in 3 <br/>\n",
    "$P(A ∩ C) = 0$<br/>\n",
    "$P(A) = 3/36$ and $P(C) = 11/36$ therefore, they are also not independent<br/>\n",
    "\n",
    "<br/>\n",
    "\n",
    "(d) Are events D and E independent?<br/>\n",
    "$P(D ∩ E) = P(D) . P(E)$<br/>\n",
    "$P(D ∩ E)$ =  The outcome of the 2nd roll was higher than the 1st roll and The difference between the two roll outcomes is exactly 1<br/>\n",
    "$P(D ∩ E) = [(1,2),(2,3),(3,4),(4,5),(5,6)] = 5/36$ <br/>\n",
    "\n",
    "$P(D) = [(1,2),(1,3),(1,4),(1,5),(1,6),(2,3),(2,4),(2,5),(2,6),(3,4),(3,5),(3,6),(4,5),(4,6),(5,6)] = 15/36$ <br/>\n",
    "$P(E) = [(1,2),(2,3),(3,4),(4,5),(5,6),(2,1),(3,2),(4,3),(5,4),(6,5)] = 10/36$ <br/>\n",
    "\n",
    "$P(D ∩ E) = P(D) . P(E) -> 5/36 =/= 25/216$ therefore, these are also not independent.<br/>\n"
   ]
  },
  {
   "cell_type": "markdown",
   "id": "8caaa63a",
   "metadata": {},
   "source": [
    "### 1.2 Bayes Theorem (2 points)\n",
    "\n",
    "Bayes' theorem is a fundamental concept in probability theory used to update the probability of a hypothesis based on new evidence. It states that the probability of a hypothesis (H) given some evidence (E) is proportional to the probability of the evidence given the hypothesis, multiplied by the prior probability of the hypothesis, divided by the probability of the evidence regardless of the hypothesis. Mathematically,\n",
    "\n",
    "$$ P(H|E) = \\frac{P(E|H)P(H)}{P(E)} $$\n",
    "\n",
    "Where,\n",
    "- $P(H∣E)$ is the posterior probability of hypothesis H given evidence E.\n",
    "- $P(E∣H)$ is the probability of observing evidence E given that the hypothesis H is true.\n",
    "- $P(H)$ is the prior probability of hypothesis H being true.\n",
    "- $P(E)$ is the probability of observing evidence E.\n",
    "\n",
    "\n",
    "Now, consider a hospital where patients are tested for a rare disease. The disease is known to affect $2\\%$ of the population. A diagnostic test is available with the following accuracy:\n",
    "\n",
    "If a person has the disease, the test returns a positive result $95\\%$ of the time (true positive rate).\n",
    "\n",
    "If a person does not have the disease, the test still gives a false positive $5\\%$ of the time.\n",
    "\n",
    "a. What is the prior probability that a randomly selected individual has the disease?\n",
    "\n",
    "b. If a randomly selected individual tests positive, what is the probability that they actually have the disease?\n",
    "\n",
    "---"
   ]
  },
  {
   "cell_type": "markdown",
   "id": "36e4b7a5",
   "metadata": {},
   "source": [
    "a.  What is the prior probability that a randomly selected individual has the disease?<br/>\n",
    "$P(Disease) = P(H) = probability \\ that \\ a \\ person \\ has \\ the \\ disease = 0.02$<br/>\n",
    "\n",
    "<br/>\n",
    "\n",
    "b. If a randomly selected individual tests positive, what is the probability that they actually have this disease? <br/>\n",
    "we are being asked $P(H|E)$ since we have evidence (test) that is positive. <br/>\n",
    "\n",
    "$P(E)$ = probability of testing positive = using law of total probability = $P(E|H).P(H) + P(E|H').P(H')= (0.95)(0.02)+(0.05)(0.98) = 0.068$\n",
    "\n",
    "therefore, <br/>\n",
    "$P(H|E) = (0.95)*(0.02)/0.068 = 0.279$\n",
    "\n",
    "\n",
    "\n"
   ]
  },
  {
   "cell_type": "markdown",
   "id": "51fa1222",
   "metadata": {},
   "source": [
    "## Exercise 2 Perplexity (3 points)\n",
    "\n",
    "The perplexity of a model can also be defined as $2^{-\\frac{1}{n} \\sum^n_1 \\log p(w_i|w_{i-1})}$. For the following exercise, use the log probabilities given of a pretrained bigram language model. Tokenization is apparent from the tokens in the following table.\n",
    "\n",
    "|A|B|log p(B\\|A)|\n",
    "|-|-|-|\n",
    "|`The`|`man`|-1.8|\n",
    "|`the`|`man`|-2.2|\n",
    "|`the`|`post`|-2.7|\n",
    "|`Man`|`the`|-5.1|\n",
    "|`man`|`the`|-3.7|\n",
    "|`man`|`shouted`|-2.9|\n",
    "|`shouted`|`\"`|-3.1|\n",
    "|`post`|`!`|-3.1|\n",
    "|`\"`|`Man`|-1.9|\n",
    "|`\"`|`man`|-1.7|\n",
    "|`!`|`\"`|-1.2|\n",
    "|`\"`|`The`|-0.9|\n",
    "|`\"`|`the`|-1.2|\n",
    "\n",
    "Assume probabilities not listed are $0^+$ (and the respective logarithm $-\\infty$). For counting bigrams, consider your corpus as a circular structure i.e. include the bigram $(w_N, w_1)$ in your final counts. Therefore the weight of each bigram is $\\frac{1}{|\\text{words}|}$.\n",
    "\n",
    "### 2.1 Lowercasing Input (1.5 points)\n",
    "\n",
    "Compute the perplexity of the following two sentences (and show the steps).\n",
    "\n",
    "```\n",
    "The man shouted \"Man the post!\"\n",
    "the man shouted \"man the post!\"\n",
    "```\n",
    "\n",
    "Is lowercasing the input always a good idea? What are the advantages and disadvantages?\n",
    "\n",
    "---"
   ]
  },
  {
   "cell_type": "markdown",
   "id": "01c485ed",
   "metadata": {},
   "source": [
    "Perplexity for 'The man shouted \"Man the post!\"' <br/>\n",
    "$2^{(-1/9)((-1.8)+(-2.9)+(-3.1)+(-1.9)+(-5.1)+(-2.7)+(-3.1)+(-1.2)+(-0.9))} = 5.74$\n",
    "\n",
    "\n",
    "<br/>\n",
    "Perplexity for 'the man shouted \"man the post!\"'<br/>\n",
    "\n",
    "$2^{(-1/9)((-2.2)+(-2.9)+(-3.1)+(-1.7)+(-3.7)+(-2.7)+(-3.1)+(-1.2)+(-1.2))} = 5.35$\n",
    "\n",
    "\n",
    "<br/>\n",
    "Even though here it suggests that lowercasing gives better perplexity (more predictable) but in reality there are advantages and disadvantages to this: <br/>\n",
    "- [ADV] Smaller vocabulary size, so faster training and less memory usage<br/>\n",
    "- [ADV] Consistency<br/>\n",
    "- [ADV] Model focuses on word meaning, not formatting.<br/>\n",
    "- [DISADV] Loss of information, ex \"May\" like month and \"may\" like maybe carry semantic information<br/>\n",
    "- [DISADV] If a model was trained on lowercased vocabulary, it will have difficulty predicting real-world text<br/>\n",
    "- [DISADV] Capitalization contains emphasis and shouting like \"HELP\" or \"help\""
   ]
  },
  {
   "cell_type": "markdown",
   "id": "e3f4bdb6",
   "metadata": {},
   "source": [
    "\n",
    "### 2.2 Unknown Tokens (1.5 points)\n",
    "\n",
    "Compute the perplexity of the following two sentences.\n",
    "\n",
    "```\n",
    "The man shouted \"Man the stations!\"\n",
    "The man shouted \"Man the the!\"\n",
    "```\n",
    "\n",
    "Elaborate on the computed results. 2. Do you consider both sentences to be equally probable?\n",
    "\n",
    "---"
   ]
  },
  {
   "cell_type": "markdown",
   "id": "44692331",
   "metadata": {},
   "source": [
    "Perplexity for 'The man shouted \"Man the stations!\"' <br/>\n",
    "$2^{(-1/9)((-1.8)+(-2.9)+(-3.1)+(-1.9)+(-5.1)+(-inf)+(-inf)+(-1.2)+(-0.9))}$ = This sum involves terms of −∞, which means the sentence's overall probability is 0 (due to the unlisted bigrams). Hence, the perplexity of this sentence will be undefined or effectively infinite because it contains impossible bigrams.\n",
    "\n",
    "<br/>\n",
    "\n",
    "Perplexity for 'The man shouted \"Man the the!\"' <br/>\n",
    "$2^{(-1/9)((-1.8)+(-2.9)+(-3.1)+(-1.9)+(-5.1)+(-inf)+(-inf)+(-1.2)+(-0/9))}$ = This sentence also contains impossible bigrams like the -> the and the -> !, which are not present in the table, leading to −∞ log probabilities. As a result, the overall probability for this sentence will also be 0, and its perplexity will be undefined or infinite.\n",
    "\n",
    "<br/>\n",
    "Both sentences are equally improbable because they both contain impossible bigrams that lead to zero probability\n"
   ]
  },
  {
   "cell_type": "markdown",
   "id": "bdef1cd6",
   "metadata": {},
   "source": [
    "## Exercise 3 - Comparing distributions (6 points)\n",
    "\n",
    "In this exercise you will compare the probability distributions $P(w_i|w_{i−1} = ``to\")$ and $P(w_i|w_{i−1} = ``the\")$ . The distribution of the words given the previous word is \"to\" or \"the\" respectively.\n",
    "\n",
    "1. Download the Brown corpus from the web (http://www.nltk.org/nltk_data/) or through the python NLTK toolkit. (0.5 points)\n",
    "1. Tokenize and lowercase each token. (0.5 points)\n",
    "1. Estimate the conditional probability distributions $P(w_i|w_{i−1} = ``to\")$ and $P(w_i|w_{i−1} = ``the\")$\n",
    "with maximum likelihood estimation. (2 point)\n",
    "1. Plot the frequency distribution (unnormalized frequency counts) or the probability distribution for the 50 most frequent tokens for both distributions. Based on the plots which distribution do you expect to have a higher entropy? Justify your answer. (1 points)\n",
    "1. Calculate the entropy for both distributions. Was your guess accurate? Elaborate on why it was right/wrong. (1 point)\n",
    "\n",
    "\n",
    "Some remarks:\n",
    "\n",
    "* Though not crucial, remember to use a base 2 logarithm, i.e. $\\log_2$.\n",
    "* Your code should be fast enough to tokenize and get the bigram statistics for the Brown corpus in a few seconds.\n",
    "* A bar plot would be ideal to visualize the probabilities/counts for the top 50 words.\n",
    "* If you need to modify the boilerplate code below, comment why. **You are allowed to change the provided code, both in the notebook and in the python file, but please explain why you did.**."
   ]
  },
  {
   "cell_type": "code",
   "execution_count": 78,
   "id": "c6367330",
   "metadata": {},
   "outputs": [
    {
     "name": "stderr",
     "output_type": "stream",
     "text": [
      "[nltk_data] Downloading package brown to\n",
      "[nltk_data]     C:\\Users\\rayya\\AppData\\Roaming\\nltk_data...\n",
      "[nltk_data]   Package brown is already up-to-date!\n"
     ]
    }
   ],
   "source": [
    "from importlib import reload\n",
    "import exercise_3_and_4\n",
    "exercise_3_and_4 = reload(exercise_3_and_4)\n",
    "\n",
    "tokenized_corpus = exercise_3_and_4.load_corpus()"
   ]
  },
  {
   "cell_type": "code",
   "execution_count": 105,
   "id": "ec419c22",
   "metadata": {},
   "outputs": [
    {
     "name": "stderr",
     "output_type": "stream",
     "text": [
      "[nltk_data] Downloading package brown to\n",
      "[nltk_data]     C:\\Users\\rayya\\AppData\\Roaming\\nltk_data...\n",
      "[nltk_data]   Package brown is already up-to-date!\n"
     ]
    },
    {
     "name": "stdout",
     "output_type": "stream",
     "text": [
      "\n",
      "\n",
      "P(Wi | Wi-1 = to)              Probability\n",
      "P(\"the\" | \"to\")                  0.128731\n",
      "P(\"be\" | \"to\")                   0.050373\n",
      "P(\"a\" | \"to\")                    0.033116\n",
      "P(\"get\" | \"to\")                  0.015858\n",
      "P(\"have\" | \"to\")                 0.011660\n",
      "P(\"make\" | \"to\")                 0.011194\n",
      "P(\"take\" | \"to\")                 0.009328\n",
      "P(\"do\" | \"to\")                   0.007929\n",
      "P(\"see\" | \"to\")                  0.007463\n",
      "P(\"go\" | \"to\")                   0.007463\n",
      "P(\"pay\" | \"to\")                  0.006996\n",
      "P(\"his\" | \"to\")                  0.006063\n",
      "P(\"bring\" | \"to\")                0.006063\n",
      "P(\"``\" | \"to\")                   0.005597\n",
      "P(\"attend\" | \"to\")               0.005597\n",
      "P(\"an\" | \"to\")                   0.005597\n",
      "P(\"work\" | \"to\")                 0.005131\n",
      "P(\"provide\" | \"to\")              0.005131\n",
      "P(\"give\" | \"to\")                 0.005131\n",
      "P(\"meet\" | \"to\")                 0.005131\n",
      "P(\"play\" | \"to\")                 0.005131\n",
      "P(\"new\" | \"to\")                  0.004664\n",
      "P(\"set\" | \"to\")                  0.004198\n",
      "P(\"prevent\" | \"to\")              0.004198\n",
      "P(\"their\" | \"to\")                0.004198\n",
      "P(\"pass\" | \"to\")                 0.003731\n",
      "P(\"try\" | \"to\")                  0.003731\n",
      "P(\"start\" | \"to\")                0.003731\n",
      "P(\"keep\" | \"to\")                 0.003731\n",
      "P(\"them\" | \"to\")                 0.003731\n",
      "P(\"obtain\" | \"to\")               0.003265\n",
      "P(\"face\" | \"to\")                 0.003265\n",
      "P(\"carry\" | \"to\")                0.003265\n",
      "P(\"help\" | \"to\")                 0.003265\n",
      "P(\"hear\" | \"to\")                 0.003265\n",
      "P(\"tell\" | \"to\")                 0.003265\n",
      "P(\"win\" | \"to\")                  0.003265\n",
      "P(\"end\" | \"to\")                  0.003265\n",
      "P(\"raise\" | \"to\")                0.003265\n",
      "P(\"buy\" | \"to\")                  0.003265\n",
      "P(\"achieve\" | \"to\")              0.002799\n",
      "P(\"establish\" | \"to\")            0.002799\n",
      "P(\"build\" | \"to\")                0.002799\n",
      "P(\"come\" | \"to\")                 0.002799\n",
      "P(\"accept\" | \"to\")               0.002799\n",
      "P(\"show\" | \"to\")                 0.002799\n",
      "P(\"sell\" | \"to\")                 0.002799\n",
      "P(\"seek\" | \"to\")                 0.002799\n",
      "P(\"use\" | \"to\")                  0.002799\n",
      "P(\"form\" | \"to\")                 0.002799\n",
      "\n",
      "\n",
      "P(Wi | Wi-1 = the)             Probability\n",
      "P(\"first\" | \"the\")               0.013310\n",
      "P(\"state\" | \"the\")               0.010179\n",
      "P(\"new\" | \"the\")                 0.008926\n",
      "P(\"united\" | \"the\")              0.007830\n",
      "P(\"president\" | \"the\")           0.007673\n",
      "P(\"``\" | \"the\")                  0.005794\n",
      "P(\"city\" | \"the\")                0.005324\n",
      "P(\"other\" | \"the\")               0.005324\n",
      "P(\"same\" | \"the\")                0.005168\n",
      "P(\"house\" | \"the\")               0.005011\n",
      "P(\"u.s.\" | \"the\")                0.004854\n",
      "P(\"last\" | \"the\")                0.004854\n",
      "P(\"jury\" | \"the\")                0.004541\n",
      "P(\"university\" | \"the\")          0.004541\n",
      "P(\"american\" | \"the\")            0.004541\n",
      "P(\"congo\" | \"the\")               0.004541\n",
      "P(\"only\" | \"the\")                0.004385\n",
      "P(\"national\" | \"the\")            0.004385\n",
      "P(\"senate\" | \"the\")              0.004228\n",
      "P(\"two\" | \"the\")                 0.004071\n",
      "P(\"most\" | \"the\")                0.003915\n",
      "P(\"past\" | \"the\")                0.003758\n",
      "P(\"board\" | \"the\")               0.003758\n",
      "P(\"white\" | \"the\")               0.003445\n",
      "P(\"world\" | \"the\")               0.003445\n",
      "P(\"year\" | \"the\")                0.003445\n",
      "P(\"administration\" | \"the\")      0.003288\n",
      "P(\"ball\" | \"the\")                0.003288\n",
      "P(\"soviet\" | \"the\")              0.002975\n",
      "P(\"man\" | \"the\")                 0.002819\n",
      "P(\"u.\" | \"the\")                  0.002819\n",
      "P(\"belgians\" | \"the\")            0.002819\n",
      "P(\"best\" | \"the\")                0.002662\n",
      "P(\"next\" | \"the\")                0.002662\n",
      "P(\"legislature\" | \"the\")         0.002662\n",
      "P(\"problem\" | \"the\")             0.002662\n",
      "P(\"federal\" | \"the\")             0.002662\n",
      "P(\"day\" | \"the\")                 0.002505\n",
      "P(\"third\" | \"the\")               0.002505\n",
      "P(\"kennedy\" | \"the\")             0.002505\n",
      "P(\"people\" | \"the\")              0.002505\n",
      "P(\"government\" | \"the\")          0.002349\n",
      "P(\"home\" | \"the\")                0.002349\n",
      "P(\"yankees\" | \"the\")             0.002349\n",
      "P(\"anti-trust\" | \"the\")          0.002349\n",
      "P(\"public\" | \"the\")              0.002192\n",
      "P(\"fact\" | \"the\")                0.002192\n",
      "P(\"country\" | \"the\")             0.002192\n",
      "P(\"republican\" | \"the\")          0.002192\n",
      "P(\"way\" | \"the\")                 0.002192\n"
     ]
    }
   ],
   "source": [
    "import json\n",
    "from importlib import reload\n",
    "import exercise_3_and_4\n",
    "exercise_3_and_4 = reload(exercise_3_and_4)\n",
    "\n",
    "tokenized_corpus = exercise_3_and_4.load_corpus() #IMPORTANT: WE'RE USING THE \"NEWS\" CATEGORY.\n",
    "\n",
    "#separating these two dictionaries for simplicity in later parts\n",
    "#if I was to combine the dictionary and print it, it would be difficult to then break it when plotting it in next func\n",
    "top_50_to, top_50_the = exercise_3_and_4.get_top_n_probabilities(tokenized_corpus, ['the', 'to'], 50)\n",
    "\n",
    "# Feel free to make the printing of the result \"prettier\"\n",
    "print(f\"\\n\\n{'P(Wi | Wi-1 = to)':<30} {'Probability':>10}\")\n",
    "\n",
    "for expr, prob in top_50_to.items():\n",
    "    print(f\"{expr:<30} {prob:>10.6f}\")\n",
    "\n",
    "\n",
    "print(f\"\\n\\n{'P(Wi | Wi-1 = the)':<30} {'Probability':>10}\")\n",
    "\n",
    "for expr, prob in top_50_the.items():\n",
    "    print(f\"{expr:<30} {prob:>10.6f}\")\n",
    "\n",
    "#PS: Make the element scrollable to view both the values for \"to\" and \"the\"\n"
   ]
  },
  {
   "cell_type": "code",
   "execution_count": 106,
   "id": "b5b3b45f",
   "metadata": {},
   "outputs": [
    {
     "data": {
      "image/png": "[encoded data removed]",
      "text/plain": [
       "<Figure size 1000x600 with 1 Axes>"
      ]
     },
     "metadata": {},
     "output_type": "display_data"
    }
   ],
   "source": [
    "from importlib import reload\n",
    "# Plot frequencies or distributions of the top 50 following words\n",
    "exercise_3_and_4.plot_top_n(top_50_to, top_50_the)"
   ]
  },
  {
   "cell_type": "markdown",
   "id": "b72d2cf6",
   "metadata": {},
   "source": [
    "The \"to\" line drops steeply at first which means that only few words follow \"to\", and the rest are much less likely. <br/>\n",
    "The \"the\" line is flatter, suggesting that the next words after \"the\" are more evenly distributed in probability.<br/>\n",
    "<br/>\n",
    "\n",
    "In \"the\", the probability values are more evenly spread, no single next-token is extremely dominant, hence it has higher entropy (less predictable)."
   ]
  },
  {
   "cell_type": "code",
   "execution_count": 108,
   "id": "c89269ad",
   "metadata": {},
   "outputs": [
    {
     "name": "stdout",
     "output_type": "stream",
     "text": [
      "(2.47989120908023, 1.5777080127659222)\n"
     ]
    }
   ],
   "source": [
    "# Calculate the entropy\n",
    "print(exercise_3_and_4.get_entropy(top_50_to, top_50_the))"
   ]
  },
  {
   "cell_type": "markdown",
   "id": "9ccac859",
   "metadata": {},
   "source": [
    "Our initial guess from the graph was wrong, because even though the graph shows steepness for \"to\"s probabilities, the remaining values still contribute enough to increase the total entropy. In contrast, for \"the\", might appear flatter but its distribution is more concentrated leading to a lower entropy."
   ]
  },
  {
   "cell_type": "markdown",
   "id": "f2ebedba",
   "metadata": {},
   "source": [
    "## Exercise 4 - Mean rank (2 points)\n",
    "\n",
    "With the distributions from exercise 3, calculate the perplexity and mean rank of the following phrases:\n",
    "\n",
    "* \"the election\"\n",
    "* \"the jury\"\n",
    "* \"the administration\"\n",
    "* \"the to\"\n",
    "* \"the the\"\n",
    "\n",
    "How close are the two metrics? Which one would you use?\n",
    "\n",
    "Note: Assume that bi-grams not present have a $P$ of $0^+$, and therefore a logarithm value of $-\\infty$."
   ]
  },
  {
   "cell_type": "code",
   "execution_count": null,
   "id": "5e3de54b",
   "metadata": {},
   "outputs": [
    {
     "name": "stdout",
     "output_type": "stream",
     "text": [
      "len of tokens(should be 2):  2\n",
      "Perplexity of \"the election\" = infinite!\n"
     ]
    }
   ],
   "source": [
    "import json\n",
    "from importlib import reload\n",
    "import exercise_3_and_4\n",
    "exercise_3_and_4 = reload(exercise_3_and_4)\n",
    "\n"
   ]
  },
  {
   "cell_type": "code",
   "execution_count": null,
   "id": "041eca72",
   "metadata": {},
   "outputs": [
    {
     "name": "stdout",
     "output_type": "stream",
     "text": [
      "Perplexity of \"the election\" = infinite! (bigram does not exist)\n",
      "Perplexity of \"the jury\" = 14.8397\n",
      "Perplexity of \"the administration\" = 17.4395\n",
      "Perplexity of \"the to\" = infinite! (bigram does not exist)\n",
      "Perplexity of \"the the\" = infinite! (bigram does not exist)\n",
      "\n",
      "\n",
      "Mean Rank of \"the election\" = 0.0 (bigram does not exist)\n",
      "Mean Rank of \"the jury\" = 6.5\n",
      "Mean Rank of \"the administration\" = 13.5\n",
      "Mean Rank of \"the to\" = 0.0 (bigram does not exist)\n",
      "Mean Rank of \"the the\" = 0.0 (bigram does not exist)\n"
     ]
    }
   ],
   "source": [
    "from importlib import reload\n",
    "import exercise_3_and_4\n",
    "exercise_3_and_4 = reload(exercise_3_and_4)\n",
    "# You will probably need to pass more arguments aside from just the bigram\n",
    "# to be evaluated to each of these calls.\n",
    "# ASSUMING WERE ONLY CHECKING FROM THE TOP 50 PROBABILITIES!\n",
    "\n",
    "# Get perplexity scores\n",
    "exercise_3_and_4.get_perplexity(\"the election\", top_50_the)\n",
    "exercise_3_and_4.get_perplexity(\"the jury\", top_50_the)\n",
    "exercise_3_and_4.get_perplexity(\"the administration\", top_50_the)\n",
    "exercise_3_and_4.get_perplexity(\"the to\", top_50_the)\n",
    "exercise_3_and_4.get_perplexity(\"the the\", top_50_the)\n",
    "\n",
    "print(\"\\n\")\n",
    "\n",
    "# Get mean rank scores\n",
    "exercise_3_and_4.get_mean_rank(\"the election\", top_50_the)\n",
    "exercise_3_and_4.get_mean_rank(\"the jury\", top_50_the)\n",
    "exercise_3_and_4.get_mean_rank(\"the administration\", top_50_the)\n",
    "exercise_3_and_4.get_mean_rank(\"the to\", top_50_the)\n",
    "exercise_3_and_4.get_mean_rank(\"the the\", top_50_the)"
   ]
  },
  {
   "cell_type": "markdown",
   "id": "461e5402",
   "metadata": {},
   "source": [
    "## Exercise 5 - Miller's model (3 points)\n",
    "\n",
    "Miller's model introduced in the lecture simulates the process of random text generation at the character level. It is a memoryless model which means that the generation at each time step is independent of what has been generated so far. Imagine that there is a monkey typing on a computer keyboard. The keyboard has only 27 keys: a to z and a spacebar. Assume that the probability of each character is distributed according to its occurrence in the English language. We call a sequence of characters separated by white space as a word.\n",
    "\n",
    "a. What is the probability that the monkey will type the word _'bayes'_ on the keyboard? Hint: See the `exercise_5.py` file.\n",
    "\n",
    "b. Complete the `compute_perplexity()` function in the `exercise_5.py` file to compute the perplexity of the Miller's model for the text: \"i am an intelligent monkey\". \n",
    "\n",
    "c. What would happen to the perplexity if we were to add a few more whitespace in between the words?\n",
    "\n",
    "---"
   ]
  },
  {
   "cell_type": "markdown",
   "id": "ea7389f7",
   "metadata": {},
   "source": [
    "5(a) - $P(bayes) = P(b) * P(a) * P(y) * P(e) * P(s)$ <br/>\n",
    "therefore, $0.01658 * 0.06798 * 0.01422 * 0.08929 * 0.04588 = 6.56e-8$"
   ]
  },
  {
   "cell_type": "code",
   "execution_count": 140,
   "id": "25157102",
   "metadata": {},
   "outputs": [
    {
     "name": "stdout",
     "output_type": "stream",
     "text": [
      "Perplexity:  17.5326\n"
     ]
    }
   ],
   "source": [
    "# Solution 5.b\n",
    "\n",
    "# DO NOT MODIFY THIS PART\n",
    "# Your code should be placed in exercise_5.py\n",
    "import exercise_5\n",
    "from importlib import reload\n",
    "\n",
    "reload(exercise_5)\n",
    "\n",
    "model = exercise_5.MillersModel()\n",
    "\n",
    "text = \"i am an intelligent monkey\"\n",
    "\n",
    "print(\"Perplexity: \", model.compute_perplexity(text))"
   ]
  },
  {
   "cell_type": "markdown",
   "id": "53c20900",
   "metadata": {},
   "source": [
    "5(c) - The perplexity will decrease, (in terms of the formula) this is mainly because \" \" holds the highest probability of 0.2 - which if we follow the perplexity formula we get a larger -ve total log probability which when divided by larger length or num of characters gives us a smaller perplexity. <br/>\n",
    "\n",
    "Non-formula-ly, it means that more spaces means that the model is now able to predict much comfortably that the next character might be an empty space, as they are more frequent <br/>\n",
    "\n",
    "Here is the same example but with increased whitespaces"
   ]
  },
  {
   "cell_type": "code",
   "execution_count": 142,
   "id": "6377ff53",
   "metadata": {},
   "outputs": [
    {
     "name": "stdout",
     "output_type": "stream",
     "text": [
      "Perplexity:  8.2589\n"
     ]
    }
   ],
   "source": [
    "model = exercise_5.MillersModel()\n",
    "\n",
    "text = \"i                        am        an intelligent          monkey\"\n",
    "\n",
    "print(\"Perplexity: \", model.compute_perplexity(text))"
   ]
  },
  {
   "cell_type": "code",
   "execution_count": null,
   "id": "bbfe38e6",
   "metadata": {},
   "outputs": [],
   "source": []
  }
 ],
 "metadata": {
  "kernelspec": {
   "display_name": "Python 3",
   "language": "python",
   "name": "python3"
  },
  "language_info": {
   "codemirror_mode": {
    "name": "ipython",
    "version": 3
   },
   "file_extension": ".py",
   "mimetype": "text/x-python",
   "name": "python",
   "nbconvert_exporter": "python",
   "pygments_lexer": "ipython3",
   "version": "3.9.11"
  }
 },
 "nbformat": 4,
 "nbformat_minor": 5
}
